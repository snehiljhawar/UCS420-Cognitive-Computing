{
 "cells": [
  {
   "cell_type": "markdown",
   "id": "41a74363-b9d2-45dc-8bf3-8ac8357abce1",
   "metadata": {},
   "source": [
    "ASSIGNMENT 4\n"
   ]
  },
  {
   "cell_type": "markdown",
   "id": "efb63130-c41d-4237-8d1d-6f5e439c7510",
   "metadata": {},
   "source": [
    "Question 1: Write a program to create a NumPy 1D-array with 5 elements and perform basic operations.\n",
    "\n"
   ]
  },
  {
   "cell_type": "markdown",
   "id": "69597bb2-bc4e-4a05-a11e-7244c60074d2",
   "metadata": {},
   "source": [
    "a) Addition of 2 in all the element\n",
    "b) Multiply 3 with all the elements\n",
    "c) Divide every element by 2\n"
   ]
  },
  {
   "cell_type": "code",
   "execution_count": 1,
   "id": "eab94193-f62a-4e0c-bddb-77e823eae282",
   "metadata": {},
   "outputs": [
    {
     "name": "stdout",
     "output_type": "stream",
     "text": [
      "[3 4 5 6 7]\n",
      "[ 3  6  9 12 15]\n",
      "[0.5 1.  1.5 2.  2.5]\n"
     ]
    }
   ],
   "source": [
    "import numpy as np\n",
    "x=[1,2,3,4,5]\n",
    "arr=np.array(x)\n",
    "#1)-(a)\n",
    "arr_sum=arr+2\n",
    "print(arr_sum)\n",
    "#1)-(b)\n",
    "arr_multiply=arr*3\n",
    "print(arr_multiply)\n",
    "#1)-(c)\n",
    "arr_div=arr/2\n",
    "print(arr_div)"
   ]
  },
  {
   "cell_type": "markdown",
   "id": "6b4d9cae-43e6-4b85-ad78-37511c1eb6eb",
   "metadata": {},
   "source": [
    "Question 2: Questions on Basic NumPy Array.\n",
    "\n"
   ]
  },
  {
   "cell_type": "markdown",
   "id": "17ca914e-e581-426a-b846-c3ac58f2679f",
   "metadata": {},
   "source": [
    "a) Reverse the NumPy array: arr = np.array([1, 2, 3, 6, 4, 5])\n"
   ]
  },
  {
   "cell_type": "code",
   "execution_count": 2,
   "id": "70959c92-6842-4bd1-97c4-9eeeb44ee8a0",
   "metadata": {},
   "outputs": [
    {
     "name": "stdout",
     "output_type": "stream",
     "text": [
      "Most frequent value: 1, Indices: [0 5 7 8 9]\n"
     ]
    }
   ],
   "source": [
    "x = np.array([1,2,3,4,5,1,2,1,1,1])\n",
    "most_frequent = np.bincount(x).argmax()  \n",
    "indices = np.where(x == most_frequent)[0]  \n",
    "print(f\"Most frequent value: {most_frequent}, Indices: {indices}\")"
   ]
  },
  {
   "cell_type": "markdown",
   "id": "3a36c3e4-c1df-43ee-83d6-861347324ff9",
   "metadata": {},
   "source": [
    "b) Find the most frequent value and their indice(s) in the following arrays:\n",
    "i. x = np.array([1,2,3,4,5,1,2,1,1,1])\n",
    "ii. y = np.array([1, 1, 1, 2, 3, 4, 2, 4, 3, 3, ])"
   ]
  },
  {
   "cell_type": "code",
   "execution_count": 3,
   "id": "da8e358f-3e4f-4c41-8db3-e75455fedcca",
   "metadata": {},
   "outputs": [
    {
     "name": "stdout",
     "output_type": "stream",
     "text": [
      "Most frequent value: 1, Indices: [0 1 2]\n"
     ]
    }
   ],
   "source": [
    "y = np.array([1, 1, 1, 2, 3, 4, 2, 4, 3, 3])\n",
    "most_frequent = np.bincount(y).argmax()  \n",
    "indices = np.where(y == most_frequent)[0]  \n",
    "print(f\"Most frequent value: {most_frequent}, Indices: {indices}\")"
   ]
  },
  {
   "cell_type": "markdown",
   "id": "85c52043-2574-4f6e-8ccd-116b7af8cc78",
   "metadata": {},
   "source": [
    "Q.3 For the given 2-D array arr=np.array([10, 20, 30], [40, 50, 60], [70, 80, 90]), access\n",
    "elements using row and column indices as follows:"
   ]
  },
  {
   "cell_type": "markdown",
   "id": "5a49a83b-a817-4dfb-af08-46e944f1ea54",
   "metadata": {},
   "source": [
    "a) Access 1st row, 2nd column"
   ]
  },
  {
   "cell_type": "code",
   "execution_count": 4,
   "id": "086a427c-527e-4594-bfea-8386eca350cc",
   "metadata": {},
   "outputs": [
    {
     "name": "stdout",
     "output_type": "stream",
     "text": [
      "Element at (1st row, 2nd column): 20\n"
     ]
    }
   ],
   "source": [
    "arr = np.array([[10, 20, 30], [40, 50, 60], [70, 80, 90]])\n",
    "element_1_2 = arr[0][1]\n",
    "print(\"Element at (1st row, 2nd column):\", element_1_2)"
   ]
  },
  {
   "cell_type": "markdown",
   "id": "adc6efbe-2fdd-499e-85fe-48c31f138bd2",
   "metadata": {},
   "source": [
    "b) Access 3rd row, 1st column"
   ]
  },
  {
   "cell_type": "code",
   "execution_count": 5,
   "id": "f9382340-f917-483b-ae11-c9d77cde8f09",
   "metadata": {},
   "outputs": [
    {
     "name": "stdout",
     "output_type": "stream",
     "text": [
      "Element at (3rd row, 1st column): 70\n"
     ]
    }
   ],
   "source": [
    "element_3_1 = arr[2][0]\n",
    "print(\"Element at (3rd row, 1st column):\", element_3_1)"
   ]
  },
  {
   "cell_type": "markdown",
   "id": "6661daf1-0ca0-44e8-819c-b2028c7358d8",
   "metadata": {},
   "source": [
    "Q.4 Write program to create an 1-D NumPy array named <<Your Name>> with evenly\n",
    "spaced 25 numbers from 10 to 100 using linspace(). Print the dimensions of the array,\n",
    "shape, total elements, the data type of each element and total number of bytes consumed\n",
    "by the array. Find the transpose of this array using reshape() attribute. Can we do the same\n",
    "with T attribute?"
   ]
  },
  {
   "cell_type": "code",
   "execution_count": 6,
   "id": "9c629015-8b4b-411d-ad76-40fc45a7d086",
   "metadata": {},
   "outputs": [
    {
     "name": "stdout",
     "output_type": "stream",
     "text": [
      "[ 10.    13.75  17.5   21.25  25.    28.75  32.5   36.25  40.    43.75\n",
      "  47.5   51.25  55.    58.75  62.5   66.25  70.    73.75  77.5   81.25\n",
      "  85.    88.75  92.5   96.25 100.  ]\n",
      "\n",
      "Dimensions: (25,)\n",
      "\n",
      "Total elements: 25\n",
      "\n",
      "Data Type of each element: float64\n",
      "\n",
      "Total Number of bytes consumed: 200\n",
      "\n",
      "Transpose:\n",
      " [ 10.    13.75  17.5   21.25  25.    28.75  32.5   36.25  40.    43.75\n",
      "  47.5   51.25  55.    58.75  62.5   66.25  70.    73.75  77.5   81.25\n",
      "  85.    88.75  92.5   96.25 100.  ]\n",
      "\n",
      "Yes,we can do the Transpose of this array using T attribute\n"
     ]
    }
   ],
   "source": [
    "Snehil=np.linspace(10,100,25)\n",
    "print(Snehil)\n",
    "print(\"\\nDimensions:\",Snehil.shape)\n",
    "print(\"\\nTotal elements:\",Snehil.size)\n",
    "print(\"\\nData Type of each element:\",Snehil.dtype)\n",
    "print(\"\\nTotal Number of bytes consumed:\",Snehil.itemsize*Snehil.size)\n",
    "print(\"\\nTranspose:\\n\",Snehil.reshape(25))\n",
    "Snehil.T\n",
    "print(\"\\nYes,we can do the Transpose of this array using T attribute\")"
   ]
  },
  {
   "cell_type": "markdown",
   "id": "4a68fe2c-4afb-496d-bfd2-98ce99349878",
   "metadata": {},
   "source": [
    "Q5. Create a 2-D Array of three rows and four columns, named ucs420_<your_name>>\n",
    "with following values – 10, 20, 30, 40, 50, 60, 70, 80, 90, 15, 20, 35. Compute the mean,\n",
    "median, max, min, unique elements. Reshape the array to four rows and three columns and\n",
    "name it as reshaped_ ucs420_<your_name>>. Resize the array to two rows and three\n",
    "columns and name it as resized_ ucs420_<your_name>>."
   ]
  },
  {
   "cell_type": "code",
   "execution_count": 8,
   "id": "f43debd5-6f91-4567-ade9-88dc05269407",
   "metadata": {},
   "outputs": [
    {
     "name": "stdout",
     "output_type": "stream",
     "text": [
      "Mean: 43.333333333333336\n",
      "\n",
      "Median: 37.5\n",
      "\n",
      "Max: 90\n",
      "\n",
      "Min: 10\n",
      "\n",
      "Unique elements: [10 15 20 30 35 40 50 60 70 80 90]\n",
      "\n",
      "Reshaped array (4 rows * 3 columns):\n",
      " [[10 20 30]\n",
      " [40 50 60]\n",
      " [70 80 90]\n",
      " [15 20 35]]\n",
      "\n",
      "Resized array (2 rows * 3 columns):\n",
      " [[10 20 30]\n",
      " [40 50 60]]\n"
     ]
    }
   ],
   "source": [
    "UCS420_Snehil = np.array([[10, 20, 30, 40], [50, 60, 70, 80], [90, 15, 20, 35]])\n",
    "\n",
    "print(\"Mean:\", np.mean(UCS420_Snehil))\n",
    "print(\"\\nMedian:\", np.median(UCS420_Snehil))\n",
    "print(\"\\nMax:\", np.max(UCS420_Snehil))\n",
    "print(\"\\nMin:\", np.min(UCS420_Snehil))\n",
    "print(\"\\nUnique elements:\", np.unique(UCS420_Snehil))\n",
    "reshaped_UCS420_Snehil = UCS420_Snehil.reshape(4, 3)\n",
    "print(\"\\nReshaped array (4 rows * 3 columns):\\n\", reshaped_UCS420_Snehil)\n",
    "resized_UCS420_Snehil = np.resize(UCS420_Snehil, (2, 3))\n",
    "print(\"\\nResized array (2 rows * 3 columns):\\n\", resized_UCS420_Snehil)"
   ]
  },
  {
   "cell_type": "code",
   "execution_count": null,
   "id": "5ba3a480-11f2-411d-9f6a-ba132b30d786",
   "metadata": {},
   "outputs": [],
   "source": []
  }
 ],
 "metadata": {
  "kernelspec": {
   "display_name": "Python 3 (ipykernel)",
   "language": "python",
   "name": "python3"
  },
  "language_info": {
   "codemirror_mode": {
    "name": "ipython",
    "version": 3
   },
   "file_extension": ".py",
   "mimetype": "text/x-python",
   "name": "python",
   "nbconvert_exporter": "python",
   "pygments_lexer": "ipython3",
   "version": "3.12.7"
  }
 },
 "nbformat": 4,
 "nbformat_minor": 5
}
