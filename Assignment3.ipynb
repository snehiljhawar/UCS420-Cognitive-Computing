{
 "cells": [
  {
   "cell_type": "markdown",
   "id": "71710131-6f41-4b88-b322-c4fc5b221099",
   "metadata": {},
   "source": [
    "ASSIGNMENT - 3\n"
   ]
  },
  {
   "cell_type": "markdown",
   "id": "ee46543d-e8e7-4094-b9dc-17bc7d5826a9",
   "metadata": {},
   "source": [
    "Question 1: Create a dataset as follow in the table.\n",
    "\n"
   ]
  },
  {
   "cell_type": "code",
   "execution_count": 2,
   "id": "97540285-212f-4dcf-b286-53019aef310c",
   "metadata": {},
   "outputs": [
    {
     "name": "stdout",
     "output_type": "stream",
     "text": [
      "   Tid Refund Marital Status Taxable Income Cheat\n",
      "0    1    Yes         Single           125K    No\n",
      "1    2     No        Married           100K    No\n",
      "2    3     No         Single            70K    No\n",
      "3    4    Yes        Married           120K    No\n",
      "4    5     No       Divorced            95K   Yes\n",
      "5    6     No        Married            60K    No\n",
      "6    7    Yes       Divorced           220K    No\n",
      "7    8     No         Single            85K   Yes\n",
      "8    9     No        Married            75K    No\n",
      "9   10     No         Single            90K   Yes\n"
     ]
    }
   ],
   "source": [
    "import pandas as pd\n",
    "mydata = {'Tid':[1,2,3,4,5,6,7,8,9,10],\n",
    "          'Refund':[\"Yes\",\"No\",\"No\",\"Yes\",\"No\",\"No\",\"Yes\",\"No\",\"No\",\"No\"],\n",
    "          'Marital Status':[\"Single\",\"Married\",\"Single\",\"Married\",\"Divorced\",\"Married\",\"Divorced\",\"Single\",\"Married\",\"Single\"],\n",
    "          'Taxable Income':[\"125K\",\"100K\",\"70K\",\"120K\",\"95K\",\"60K\",\"220K\",\"85K\",\"75K\",\"90K\"],\n",
    "          'Cheat':[\"No\",\"No\",\"No\",\"No\",\"Yes\",\"No\",\"No\",\"Yes\",\"No\",\"Yes\"]\n",
    "         }\n",
    "myvar = pd.DataFrame(mydata)\n",
    "print(myvar)"
   ]
  },
  {
   "cell_type": "markdown",
   "id": "4c8ce930-19e6-48bd-b1ae-887c04d4df63",
   "metadata": {},
   "source": [
    "Question 2: From the above table that you have created, locate row 0, 4, 7 and 8 using DataFrame\n",
    "\n"
   ]
  },
  {
   "cell_type": "code",
   "execution_count": 3,
   "id": "911dde4c-ba78-4ed1-98e6-f3b76231b79e",
   "metadata": {},
   "outputs": [
    {
     "data": {
      "text/plain": [
       "Tid                    1\n",
       "Refund               Yes\n",
       "Marital Status    Single\n",
       "Taxable Income      125K\n",
       "Cheat                 No\n",
       "Name: 0, dtype: object"
      ]
     },
     "execution_count": 3,
     "metadata": {},
     "output_type": "execute_result"
    }
   ],
   "source": [
    "myvar.iloc[0]\n"
   ]
  },
  {
   "cell_type": "code",
   "execution_count": 4,
   "id": "afb050c2-9652-4dea-8e9f-eb269e0cc1df",
   "metadata": {},
   "outputs": [
    {
     "data": {
      "text/plain": [
       "Tid                      5\n",
       "Refund                  No\n",
       "Marital Status    Divorced\n",
       "Taxable Income         95K\n",
       "Cheat                  Yes\n",
       "Name: 4, dtype: object"
      ]
     },
     "execution_count": 4,
     "metadata": {},
     "output_type": "execute_result"
    }
   ],
   "source": [
    "myvar.iloc[4]\n"
   ]
  },
  {
   "cell_type": "code",
   "execution_count": 5,
   "id": "063ef0b9-e432-46b1-a4e6-90424ac9543c",
   "metadata": {},
   "outputs": [
    {
     "data": {
      "text/plain": [
       "Tid                    8\n",
       "Refund                No\n",
       "Marital Status    Single\n",
       "Taxable Income       85K\n",
       "Cheat                Yes\n",
       "Name: 7, dtype: object"
      ]
     },
     "execution_count": 5,
     "metadata": {},
     "output_type": "execute_result"
    }
   ],
   "source": [
    "myvar.iloc[7]\n"
   ]
  },
  {
   "cell_type": "code",
   "execution_count": 6,
   "id": "38ead811-38eb-47c8-9bfd-7faa36766605",
   "metadata": {},
   "outputs": [
    {
     "data": {
      "text/plain": [
       "Tid                     9\n",
       "Refund                 No\n",
       "Marital Status    Married\n",
       "Taxable Income        75K\n",
       "Cheat                  No\n",
       "Name: 8, dtype: object"
      ]
     },
     "execution_count": 6,
     "metadata": {},
     "output_type": "execute_result"
    }
   ],
   "source": [
    "myvar.iloc[8]\n"
   ]
  },
  {
   "cell_type": "markdown",
   "id": "33840bf0-7c3b-4581-b2cc-aa6382bd8208",
   "metadata": {},
   "source": [
    "Question 3: Navigate the DataFrame and do the following task for the table created in question 1:\n",
    "\n"
   ]
  },
  {
   "cell_type": "markdown",
   "id": "a10e3db7-ba0d-4257-bcb0-5a6a283d59c4",
   "metadata": {},
   "source": [
    "1. Select row from index 3 to 7\n",
    "\n"
   ]
  },
  {
   "cell_type": "code",
   "execution_count": 8,
   "id": "cf2028c6-df0c-494c-8243-af615be579d7",
   "metadata": {},
   "outputs": [
    {
     "data": {
      "text/html": [
       "<div>\n",
       "<style scoped>\n",
       "    .dataframe tbody tr th:only-of-type {\n",
       "        vertical-align: middle;\n",
       "    }\n",
       "\n",
       "    .dataframe tbody tr th {\n",
       "        vertical-align: top;\n",
       "    }\n",
       "\n",
       "    .dataframe thead th {\n",
       "        text-align: right;\n",
       "    }\n",
       "</style>\n",
       "<table border=\"1\" class=\"dataframe\">\n",
       "  <thead>\n",
       "    <tr style=\"text-align: right;\">\n",
       "      <th></th>\n",
       "      <th>Tid</th>\n",
       "      <th>Refund</th>\n",
       "      <th>Marital Status</th>\n",
       "      <th>Taxable Income</th>\n",
       "      <th>Cheat</th>\n",
       "    </tr>\n",
       "  </thead>\n",
       "  <tbody>\n",
       "    <tr>\n",
       "      <th>3</th>\n",
       "      <td>4</td>\n",
       "      <td>Yes</td>\n",
       "      <td>Married</td>\n",
       "      <td>120K</td>\n",
       "      <td>No</td>\n",
       "    </tr>\n",
       "    <tr>\n",
       "      <th>4</th>\n",
       "      <td>5</td>\n",
       "      <td>No</td>\n",
       "      <td>Divorced</td>\n",
       "      <td>95K</td>\n",
       "      <td>Yes</td>\n",
       "    </tr>\n",
       "    <tr>\n",
       "      <th>5</th>\n",
       "      <td>6</td>\n",
       "      <td>No</td>\n",
       "      <td>Married</td>\n",
       "      <td>60K</td>\n",
       "      <td>No</td>\n",
       "    </tr>\n",
       "    <tr>\n",
       "      <th>6</th>\n",
       "      <td>7</td>\n",
       "      <td>Yes</td>\n",
       "      <td>Divorced</td>\n",
       "      <td>220K</td>\n",
       "      <td>No</td>\n",
       "    </tr>\n",
       "    <tr>\n",
       "      <th>7</th>\n",
       "      <td>8</td>\n",
       "      <td>No</td>\n",
       "      <td>Single</td>\n",
       "      <td>85K</td>\n",
       "      <td>Yes</td>\n",
       "    </tr>\n",
       "  </tbody>\n",
       "</table>\n",
       "</div>"
      ],
      "text/plain": [
       "   Tid Refund Marital Status Taxable Income Cheat\n",
       "3    4    Yes        Married           120K    No\n",
       "4    5     No       Divorced            95K   Yes\n",
       "5    6     No        Married            60K    No\n",
       "6    7    Yes       Divorced           220K    No\n",
       "7    8     No         Single            85K   Yes"
      ]
     },
     "execution_count": 8,
     "metadata": {},
     "output_type": "execute_result"
    }
   ],
   "source": [
    "myvar.iloc[3:8]\n"
   ]
  },
  {
   "cell_type": "markdown",
   "id": "82cd212a-f88f-4b58-bf0d-90a2475da3dc",
   "metadata": {},
   "source": [
    "2. Select row from index 4 to 8, and column 2 to 4\n",
    "\n"
   ]
  },
  {
   "cell_type": "code",
   "execution_count": 9,
   "id": "e0defb56-a63f-43ac-aebe-f358552aa222",
   "metadata": {},
   "outputs": [
    {
     "data": {
      "text/html": [
       "<div>\n",
       "<style scoped>\n",
       "    .dataframe tbody tr th:only-of-type {\n",
       "        vertical-align: middle;\n",
       "    }\n",
       "\n",
       "    .dataframe tbody tr th {\n",
       "        vertical-align: top;\n",
       "    }\n",
       "\n",
       "    .dataframe thead th {\n",
       "        text-align: right;\n",
       "    }\n",
       "</style>\n",
       "<table border=\"1\" class=\"dataframe\">\n",
       "  <thead>\n",
       "    <tr style=\"text-align: right;\">\n",
       "      <th></th>\n",
       "      <th>Marital Status</th>\n",
       "      <th>Taxable Income</th>\n",
       "      <th>Cheat</th>\n",
       "    </tr>\n",
       "  </thead>\n",
       "  <tbody>\n",
       "    <tr>\n",
       "      <th>4</th>\n",
       "      <td>Divorced</td>\n",
       "      <td>95K</td>\n",
       "      <td>Yes</td>\n",
       "    </tr>\n",
       "    <tr>\n",
       "      <th>5</th>\n",
       "      <td>Married</td>\n",
       "      <td>60K</td>\n",
       "      <td>No</td>\n",
       "    </tr>\n",
       "    <tr>\n",
       "      <th>6</th>\n",
       "      <td>Divorced</td>\n",
       "      <td>220K</td>\n",
       "      <td>No</td>\n",
       "    </tr>\n",
       "    <tr>\n",
       "      <th>7</th>\n",
       "      <td>Single</td>\n",
       "      <td>85K</td>\n",
       "      <td>Yes</td>\n",
       "    </tr>\n",
       "    <tr>\n",
       "      <th>8</th>\n",
       "      <td>Married</td>\n",
       "      <td>75K</td>\n",
       "      <td>No</td>\n",
       "    </tr>\n",
       "  </tbody>\n",
       "</table>\n",
       "</div>"
      ],
      "text/plain": [
       "  Marital Status Taxable Income Cheat\n",
       "4       Divorced            95K   Yes\n",
       "5        Married            60K    No\n",
       "6       Divorced           220K    No\n",
       "7         Single            85K   Yes\n",
       "8        Married            75K    No"
      ]
     },
     "execution_count": 9,
     "metadata": {},
     "output_type": "execute_result"
    }
   ],
   "source": [
    "myvar.iloc[4:9,2:5]\n"
   ]
  },
  {
   "cell_type": "markdown",
   "id": "c55a68bd-e573-424e-9676-0da1744737bd",
   "metadata": {},
   "source": [
    "3. Select all rows with column index 1 to 3 (include index 3 during selection)\n",
    "\n"
   ]
  },
  {
   "cell_type": "code",
   "execution_count": 10,
   "id": "13eb9e5a-beaa-4136-974b-32d3b30c0ea4",
   "metadata": {},
   "outputs": [
    {
     "data": {
      "text/html": [
       "<div>\n",
       "<style scoped>\n",
       "    .dataframe tbody tr th:only-of-type {\n",
       "        vertical-align: middle;\n",
       "    }\n",
       "\n",
       "    .dataframe tbody tr th {\n",
       "        vertical-align: top;\n",
       "    }\n",
       "\n",
       "    .dataframe thead th {\n",
       "        text-align: right;\n",
       "    }\n",
       "</style>\n",
       "<table border=\"1\" class=\"dataframe\">\n",
       "  <thead>\n",
       "    <tr style=\"text-align: right;\">\n",
       "      <th></th>\n",
       "      <th>Refund</th>\n",
       "      <th>Marital Status</th>\n",
       "      <th>Taxable Income</th>\n",
       "    </tr>\n",
       "  </thead>\n",
       "  <tbody>\n",
       "    <tr>\n",
       "      <th>0</th>\n",
       "      <td>Yes</td>\n",
       "      <td>Single</td>\n",
       "      <td>125K</td>\n",
       "    </tr>\n",
       "    <tr>\n",
       "      <th>1</th>\n",
       "      <td>No</td>\n",
       "      <td>Married</td>\n",
       "      <td>100K</td>\n",
       "    </tr>\n",
       "    <tr>\n",
       "      <th>2</th>\n",
       "      <td>No</td>\n",
       "      <td>Single</td>\n",
       "      <td>70K</td>\n",
       "    </tr>\n",
       "    <tr>\n",
       "      <th>3</th>\n",
       "      <td>Yes</td>\n",
       "      <td>Married</td>\n",
       "      <td>120K</td>\n",
       "    </tr>\n",
       "    <tr>\n",
       "      <th>4</th>\n",
       "      <td>No</td>\n",
       "      <td>Divorced</td>\n",
       "      <td>95K</td>\n",
       "    </tr>\n",
       "    <tr>\n",
       "      <th>5</th>\n",
       "      <td>No</td>\n",
       "      <td>Married</td>\n",
       "      <td>60K</td>\n",
       "    </tr>\n",
       "    <tr>\n",
       "      <th>6</th>\n",
       "      <td>Yes</td>\n",
       "      <td>Divorced</td>\n",
       "      <td>220K</td>\n",
       "    </tr>\n",
       "    <tr>\n",
       "      <th>7</th>\n",
       "      <td>No</td>\n",
       "      <td>Single</td>\n",
       "      <td>85K</td>\n",
       "    </tr>\n",
       "    <tr>\n",
       "      <th>8</th>\n",
       "      <td>No</td>\n",
       "      <td>Married</td>\n",
       "      <td>75K</td>\n",
       "    </tr>\n",
       "    <tr>\n",
       "      <th>9</th>\n",
       "      <td>No</td>\n",
       "      <td>Single</td>\n",
       "      <td>90K</td>\n",
       "    </tr>\n",
       "  </tbody>\n",
       "</table>\n",
       "</div>"
      ],
      "text/plain": [
       "  Refund Marital Status Taxable Income\n",
       "0    Yes         Single           125K\n",
       "1     No        Married           100K\n",
       "2     No         Single            70K\n",
       "3    Yes        Married           120K\n",
       "4     No       Divorced            95K\n",
       "5     No        Married            60K\n",
       "6    Yes       Divorced           220K\n",
       "7     No         Single            85K\n",
       "8     No        Married            75K\n",
       "9     No         Single            90K"
      ]
     },
     "execution_count": 10,
     "metadata": {},
     "output_type": "execute_result"
    }
   ],
   "source": [
    "myvar.iloc[0:10,1:4]\n"
   ]
  },
  {
   "cell_type": "markdown",
   "id": "5c60bbda-a90e-48f9-9aaa-83a2cad127a6",
   "metadata": {},
   "source": [
    "Question 4: Read a csv file and display its first five rows\n",
    "\n"
   ]
  },
  {
   "cell_type": "code",
   "execution_count": 1,
   "id": "0eb75aa9-e2e6-4fe8-a05d-22c665823113",
   "metadata": {},
   "outputs": [
    {
     "name": "stdout",
     "output_type": "stream",
     "text": [
      "   Id  SepalLengthCm  SepalWidthCm  PetalLengthCm  PetalWidthCm      Species\n",
      "0   1            5.1           3.5            1.4           0.2  Iris-setosa\n",
      "1   2            4.9           3.0            1.4           0.2  Iris-setosa\n",
      "2   3            4.7           3.2            1.3           0.2  Iris-setosa\n",
      "3   4            4.6           3.1            1.5           0.2  Iris-setosa\n",
      "4   5            5.0           3.6            1.4           0.2  Iris-setosa\n"
     ]
    }
   ],
   "source": [
    "import pandas as pd\n",
    "df = pd.read_csv(\"Iris.csv\")\n",
    "print(df.iloc[:5])"
   ]
  },
  {
   "cell_type": "markdown",
   "id": "513fc985-79f9-42cb-8154-eb6d08cfbb63",
   "metadata": {},
   "source": [
    "Question 5: From the csv file (uploaded in the Q.4) delete row 4, and delete column 3. Display the result."
   ]
  },
  {
   "cell_type": "code",
   "execution_count": 2,
   "id": "251ada6a-e612-487c-83f8-824bfbf0d8e1",
   "metadata": {},
   "outputs": [
    {
     "name": "stdout",
     "output_type": "stream",
     "text": [
      "      Id  SepalLengthCm  SepalWidthCm  PetalWidthCm         Species\n",
      "0      1            5.1           3.5           0.2     Iris-setosa\n",
      "1      2            4.9           3.0           0.2     Iris-setosa\n",
      "2      3            4.7           3.2           0.2     Iris-setosa\n",
      "3      4            4.6           3.1           0.2     Iris-setosa\n",
      "5      6            5.4           3.9           0.4     Iris-setosa\n",
      "..   ...            ...           ...           ...             ...\n",
      "145  146            6.7           3.0           2.3  Iris-virginica\n",
      "146  147            6.3           2.5           1.9  Iris-virginica\n",
      "147  148            6.5           3.0           2.0  Iris-virginica\n",
      "148  149            6.2           3.4           2.3  Iris-virginica\n",
      "149  150            5.9           3.0           1.8  Iris-virginica\n",
      "\n",
      "[149 rows x 5 columns]\n"
     ]
    }
   ],
   "source": [
    "import pandas as pd\n",
    "df=pd.read_csv(\"Iris.csv\")\n",
    "df=df.drop(index=4)\n",
    "df=df.drop(columns=\"PetalLengthCm\")\n",
    "print(df)"
   ]
  },
  {
   "cell_type": "markdown",
   "id": "ab017b2d-b21b-415c-88a2-72e9e99fb364",
   "metadata": {},
   "source": [
    "Question 6: Create a sample dataset (employees.csv) containing information about employees in a company.\n",
    "\n"
   ]
  },
  {
   "cell_type": "code",
   "execution_count": 4,
   "id": "e7d900fc-1497-4e53-8db6-bb52f16a68ea",
   "metadata": {},
   "outputs": [],
   "source": [
    "import pandas as pd\n",
    "data = {\n",
    "    \"Employee ID\":[101,102,103,104,105],\n",
    "    \"Name\":[\"Alice\",\"Bob\",\"Charlie\",\"Diana\",\"Edward\"],\n",
    "    \"Department\":[\"HR\",\"IT\",\"IT\",\"MARKETING\",\"SALES\"],\n",
    "    \"Age\":[29,34,41,28,38],\n",
    "    \"Salary\":[50000,70000,65000,55000,60000],\n",
    "    \"Years_of_Experience\": [4, 8, 10, 3, 12],\n",
    "    \"Joining_Date\": [\"2020-03-15\", \"2017-07-19\", \"2013-06-01\", \"2021-02-10\", \"2010-11-25\"],\n",
    "    \"Gender\": [\"Female\", \"Male\", \"Male\", \"Female\", \"Male\"],\n",
    "    \"Bonus\": [5000, 7000, 6000, 4500, 5000],\n",
    "    \"Rating\": [4.5, 4.0, 3.8, 4.7, 3.5],\n",
    "}\n",
    "df=pd.DataFrame(data)\n",
    "df.to_csv(\"employees.csv\")"
   ]
  },
  {
   "cell_type": "markdown",
   "id": "631b1cd2-f073-4acd-9eef-29315ff7074d",
   "metadata": {},
   "source": [
    "a) Shape (number of rows and columns) of the DataFrame.\n",
    "\n"
   ]
  },
  {
   "cell_type": "code",
   "execution_count": 5,
   "id": "dfb59d83-d63b-4344-8706-bb34bc1d983b",
   "metadata": {},
   "outputs": [
    {
     "name": "stdout",
     "output_type": "stream",
     "text": [
      "Displaying Shape of the DataFrame\n",
      "(5, 10)\n"
     ]
    }
   ],
   "source": [
    "print(\"Displaying Shape of the DataFrame\")\n",
    "print(df.shape)"
   ]
  },
  {
   "cell_type": "markdown",
   "id": "dc57d12b-bcd5-4286-bab0-48e86ce4d716",
   "metadata": {},
   "source": [
    "b) Summary of the DataFrame that includes the data types and non-null counts for each column."
   ]
  },
  {
   "cell_type": "code",
   "execution_count": 6,
   "id": "77aba51a-20db-4075-8a36-0859c19d35d0",
   "metadata": {},
   "outputs": [
    {
     "name": "stdout",
     "output_type": "stream",
     "text": [
      "\n",
      "Displaying Summary of the DataFrame:\n",
      "Employee ID              int64\n",
      "Name                    object\n",
      "Department              object\n",
      "Age                      int64\n",
      "Salary                   int64\n",
      "Years_of_Experience      int64\n",
      "Joining_Date            object\n",
      "Gender                  object\n",
      "Bonus                    int64\n",
      "Rating                 float64\n",
      "dtype: object\n"
     ]
    }
   ],
   "source": [
    "print(\"\\nDisplaying Summary of the DataFrame:\")\n",
    "print(df.dtypes)"
   ]
  },
  {
   "cell_type": "markdown",
   "id": "dfc75be3-c5eb-4d4f-a93d-f9ba86ec9a75",
   "metadata": {},
   "source": [
    "c) Generate descriptive statistics."
   ]
  },
  {
   "cell_type": "code",
   "execution_count": 7,
   "id": "04ec8ba9-65f4-4345-b003-bd4d556fc7b8",
   "metadata": {},
   "outputs": [
    {
     "name": "stdout",
     "output_type": "stream",
     "text": [
      "\n",
      "Dispalying general descriptive statistics\n",
      "       Employee ID        Age       Salary  Years_of_Experience   Bonus  \\\n",
      "count     5.000000   5.000000      5.00000             5.000000     5.0   \n",
      "mean    103.000000  34.000000  60000.00000             7.400000  5500.0   \n",
      "std       1.581139   5.612486   7905.69415             3.847077  1000.0   \n",
      "min     101.000000  28.000000  50000.00000             3.000000  4500.0   \n",
      "25%     102.000000  29.000000  55000.00000             4.000000  5000.0   \n",
      "50%     103.000000  34.000000  60000.00000             8.000000  5000.0   \n",
      "75%     104.000000  38.000000  65000.00000            10.000000  6000.0   \n",
      "max     105.000000  41.000000  70000.00000            12.000000  7000.0   \n",
      "\n",
      "         Rating  \n",
      "count  5.000000  \n",
      "mean   4.100000  \n",
      "std    0.494975  \n",
      "min    3.500000  \n",
      "25%    3.800000  \n",
      "50%    4.000000  \n",
      "75%    4.500000  \n",
      "max    4.700000  \n"
     ]
    }
   ],
   "source": [
    "print(\"\\nDispalying general descriptive statistics\")\n",
    "print(df.describe())"
   ]
  },
  {
   "cell_type": "markdown",
   "id": "3cfb3642-ec90-4857-9738-42a83b0de81e",
   "metadata": {},
   "source": [
    "d) Display the first 5 rows and last 3 rows of the dataset."
   ]
  },
  {
   "cell_type": "code",
   "execution_count": 8,
   "id": "29c11a6a-38af-4029-8118-f3b36fb52490",
   "metadata": {},
   "outputs": [
    {
     "name": "stdout",
     "output_type": "stream",
     "text": [
      "\n",
      " Displaying First 5 and last 3 rows:\n",
      "   Employee ID     Name Department  Age  Salary  Years_of_Experience  \\\n",
      "0          101    Alice         HR   29   50000                    4   \n",
      "1          102      Bob         IT   34   70000                    8   \n",
      "2          103  Charlie         IT   41   65000                   10   \n",
      "3          104    Diana  MARKETING   28   55000                    3   \n",
      "4          105   Edward      SALES   38   60000                   12   \n",
      "\n",
      "  Joining_Date  Gender  Bonus  Rating  \n",
      "0   2020-03-15  Female   5000     4.5  \n",
      "1   2017-07-19    Male   7000     4.0  \n",
      "2   2013-06-01    Male   6000     3.8  \n",
      "3   2021-02-10  Female   4500     4.7  \n",
      "4   2010-11-25    Male   5000     3.5  \n",
      "   Employee ID     Name Department  Age  Salary  Years_of_Experience  \\\n",
      "2          103  Charlie         IT   41   65000                   10   \n",
      "3          104    Diana  MARKETING   28   55000                    3   \n",
      "4          105   Edward      SALES   38   60000                   12   \n",
      "\n",
      "  Joining_Date  Gender  Bonus  Rating  \n",
      "2   2013-06-01    Male   6000     3.8  \n",
      "3   2021-02-10  Female   4500     4.7  \n",
      "4   2010-11-25    Male   5000     3.5  \n"
     ]
    }
   ],
   "source": [
    "print(\"\\n Displaying First 5 and last 3 rows:\")\n",
    "print(df.head(5))\n",
    "print(df.tail(3))"
   ]
  },
  {
   "cell_type": "markdown",
   "id": "8cd514fb-9c02-411a-8216-c1ce2457c30e",
   "metadata": {},
   "source": [
    "e) Calculate the following statistics from the dataset:\n",
    "i. The average salary of employees."
   ]
  },
  {
   "cell_type": "code",
   "execution_count": 10,
   "id": "96920172-1bd9-44d9-aa8b-e550aab36712",
   "metadata": {},
   "outputs": [
    {
     "name": "stdout",
     "output_type": "stream",
     "text": [
      "\n",
      "Displaying Average Salary of the Employees:\n",
      "60000.0\n"
     ]
    }
   ],
   "source": [
    "print(\"\\nDisplaying Average Salary of the Employees:\")\n",
    "print(df[\"Salary\"].mean())"
   ]
  },
  {
   "cell_type": "markdown",
   "id": "0c500877-44fb-41c1-8e15-01c57e0cb54e",
   "metadata": {},
   "source": [
    "ii. The total bonus paid to all employees.\n",
    "\n"
   ]
  },
  {
   "cell_type": "code",
   "execution_count": 11,
   "id": "92aaa7a0-3123-499d-833d-add2a2b70f73",
   "metadata": {},
   "outputs": [
    {
     "name": "stdout",
     "output_type": "stream",
     "text": [
      "\n",
      "Displaying total bonus:\n",
      "27500\n"
     ]
    }
   ],
   "source": [
    "print(\"\\nDisplaying total bonus:\")\n",
    "print(df[\"Bonus\"].sum())"
   ]
  },
  {
   "cell_type": "markdown",
   "id": "390a50c5-d89e-4552-a398-eea8e6eb5f62",
   "metadata": {},
   "source": [
    "iii. The youngest employee's age.\n",
    "\n"
   ]
  },
  {
   "cell_type": "code",
   "execution_count": 12,
   "id": "7bc6bf61-c7c7-440e-a449-12336dd24576",
   "metadata": {},
   "outputs": [
    {
     "name": "stdout",
     "output_type": "stream",
     "text": [
      "\n",
      " Displaying Youngest Employees Age:\n",
      "28\n"
     ]
    }
   ],
   "source": [
    "print(\"\\n Displaying Youngest Employees Age:\")\n",
    "youngest_age=df[\"Age\"].min()\n",
    "print(youngest_age)"
   ]
  },
  {
   "cell_type": "markdown",
   "id": "5015a79f-1920-41ba-9a9b-9a98c9723af2",
   "metadata": {},
   "source": [
    "iv. The highest performance rating.\n",
    "\n"
   ]
  },
  {
   "cell_type": "code",
   "execution_count": 13,
   "id": "20cdd4c9-65c9-4179-b2e1-7a451c9deab1",
   "metadata": {},
   "outputs": [
    {
     "name": "stdout",
     "output_type": "stream",
     "text": [
      "\n",
      "Displaying Highest performance rating:\n",
      "4.7\n"
     ]
    }
   ],
   "source": [
    "print(\"\\nDisplaying Highest performance rating:\")\n",
    "hp_rating=df[\"Rating\"].max()\n",
    "print(hp_rating)"
   ]
  },
  {
   "cell_type": "markdown",
   "id": "57f179b3-6f74-4ff2-8ae9-480158307ef4",
   "metadata": {},
   "source": [
    "f)Sort the DataFrame by the Salary column in descending order."
   ]
  },
  {
   "cell_type": "code",
   "execution_count": 14,
   "id": "fb841e7b-9856-43c2-8bd4-2934826d60d6",
   "metadata": {},
   "outputs": [
    {
     "name": "stdout",
     "output_type": "stream",
     "text": [
      "\n",
      "    Employee ID     Name Department  Age  Salary  Years_of_Experience  \\\n",
      "1          102      Bob         IT   34   70000                    8   \n",
      "2          103  Charlie         IT   41   65000                   10   \n",
      "4          105   Edward      SALES   38   60000                   12   \n",
      "3          104    Diana  MARKETING   28   55000                    3   \n",
      "0          101    Alice         HR   29   50000                    4   \n",
      "\n",
      "  Joining_Date  Gender  Bonus  Rating  \n",
      "1   2017-07-19    Male   7000     4.0  \n",
      "2   2013-06-01    Male   6000     3.8  \n",
      "4   2010-11-25    Male   5000     3.5  \n",
      "3   2021-02-10  Female   4500     4.7  \n",
      "0   2020-03-15  Female   5000     4.5  \n"
     ]
    }
   ],
   "source": [
    "sorted_df=df.sort_values(by=\"Salary\",ascending=False)\n",
    "print(\"\\n\",sorted_df)"
   ]
  },
  {
   "cell_type": "markdown",
   "id": "621a595f-500a-4f62-94a8-475fab69e435",
   "metadata": {},
   "source": [
    "g)Add a new column that categorizes employees based on their performance rating:<br>\n",
    "\n",
    "i. Excellent for ratings >= 4.5<br>\n",
    "ii. Good for ratings >= 4.0 but < 4.5<br>\n",
    "iii. Average for ratings < 4.0"
   ]
  },
  {
   "cell_type": "code",
   "execution_count": 15,
   "id": "6e0079aa-3b41-4c94-8f28-d6abf5eac3c9",
   "metadata": {
    "scrolled": true
   },
   "outputs": [
    {
     "name": "stdout",
     "output_type": "stream",
     "text": [
      "\n",
      "\n",
      "      Name Performance Category\n",
      "0    Alice                 Good\n",
      "1      Bob              Average\n",
      "2  Charlie              Average\n",
      "3    Diana            Excellent\n",
      "4   Edward              Average\n"
     ]
    }
   ],
   "source": [
    "df[\"Performance Category\"]=pd.cut(df[\"Rating\"],bins=[0,4.0,4.5,5.0],labels=[\"Average\",\"Good\",\"Excellent\"])\n",
    "print(\"\\n\")\n",
    "print(df[[\"Name\",\"Performance Category\"]])"
   ]
  },
  {
   "cell_type": "markdown",
   "id": "a1ed371e-62ab-436a-88e8-82afb8b37a5b",
   "metadata": {},
   "source": [
    "h)Identify missing values in the DataFrame."
   ]
  },
  {
   "cell_type": "code",
   "execution_count": 16,
   "id": "9dd92e3c-39ed-48bd-b3e0-1877a2ea6001",
   "metadata": {},
   "outputs": [
    {
     "name": "stdout",
     "output_type": "stream",
     "text": [
      "\n",
      "Checking for missing values in the DataFrame:\n",
      "Employee ID             0\n",
      "Name                    0\n",
      "Department              0\n",
      "Age                     0\n",
      "Salary                  0\n",
      "Years_of_Experience     0\n",
      "Joining_Date            0\n",
      "Gender                  0\n",
      "Bonus                   0\n",
      "Rating                  0\n",
      "Performance Category    0\n",
      "dtype: int64\n"
     ]
    }
   ],
   "source": [
    "print(\"\\nChecking for missing values in the DataFrame:\")\n",
    "print(df.isnull().sum())"
   ]
  },
  {
   "cell_type": "markdown",
   "id": "1d2cebd4-9cf0-4d40-b5fb-aad8d1257082",
   "metadata": {},
   "source": [
    "i)Rename the Employee_ID column to ID."
   ]
  },
  {
   "cell_type": "code",
   "execution_count": 17,
   "id": "3e813a0c-3506-499d-baa0-fd19485496f9",
   "metadata": {},
   "outputs": [
    {
     "name": "stdout",
     "output_type": "stream",
     "text": [
      "\n",
      "DataFrame with renamed column:\n",
      "   Employee ID     Name Department  Age  Salary  Years_of_Experience  \\\n",
      "0          101    Alice         HR   29   50000                    4   \n",
      "1          102      Bob         IT   34   70000                    8   \n",
      "2          103  Charlie         IT   41   65000                   10   \n",
      "3          104    Diana  MARKETING   28   55000                    3   \n",
      "4          105   Edward      SALES   38   60000                   12   \n",
      "\n",
      "  Joining_Date  Gender  Bonus  Rating Performance Category  \n",
      "0   2020-03-15  Female   5000     4.5                 Good  \n",
      "1   2017-07-19    Male   7000     4.0              Average  \n",
      "2   2013-06-01    Male   6000     3.8              Average  \n",
      "3   2021-02-10  Female   4500     4.7            Excellent  \n",
      "4   2010-11-25    Male   5000     3.5              Average  \n"
     ]
    }
   ],
   "source": [
    "df.rename(columns={\"Employee_ID\": \"ID\"}, inplace=True)\n",
    "print(\"\\nDataFrame with renamed column:\")\n",
    "print(df)"
   ]
  },
  {
   "cell_type": "markdown",
   "id": "65a1102f-c1b8-40eb-a0fb-dc80364366d0",
   "metadata": {},
   "source": [
    "j) Find all employees who:<br>\n",
    "i. Have more than 5 years of experience."
   ]
  },
  {
   "cell_type": "code",
   "execution_count": 19,
   "id": "fb9a3863-f2fb-4d28-877c-3a5cfbeaaf2c",
   "metadata": {},
   "outputs": [
    {
     "name": "stdout",
     "output_type": "stream",
     "text": [
      "\n",
      "Employees with more than 5 years of experience:\n",
      "   Employee ID     Name Department  Age  Salary  Years_of_Experience  \\\n",
      "1          102      Bob         IT   34   70000                    8   \n",
      "2          103  Charlie         IT   41   65000                   10   \n",
      "4          105   Edward      SALES   38   60000                   12   \n",
      "\n",
      "  Joining_Date Gender  Bonus  Rating Performance Category  \n",
      "1   2017-07-19   Male   7000     4.0              Average  \n",
      "2   2013-06-01   Male   6000     3.8              Average  \n",
      "4   2010-11-25   Male   5000     3.5              Average  \n"
     ]
    }
   ],
   "source": [
    "Greater_5_years=df[df[\"Years_of_Experience\"]>5]\n",
    "print(\"\\nEmployees with more than 5 years of experience:\")\n",
    "print(Greater_5_years)"
   ]
  },
  {
   "cell_type": "markdown",
   "id": "fb0c5bde-eb70-4d64-b4ef-19b0ed9772d2",
   "metadata": {},
   "source": [
    "ii. Belong to the IT department."
   ]
  },
  {
   "cell_type": "code",
   "execution_count": 20,
   "id": "393dad6b-037a-446d-a77f-03e1316367ef",
   "metadata": {},
   "outputs": [
    {
     "name": "stdout",
     "output_type": "stream",
     "text": [
      "\n",
      "Employees in IT department:\n",
      "   Employee ID     Name Department  Age  Salary  Years_of_Experience  \\\n",
      "1          102      Bob         IT   34   70000                    8   \n",
      "2          103  Charlie         IT   41   65000                   10   \n",
      "\n",
      "  Joining_Date Gender  Bonus  Rating Performance Category  \n",
      "1   2017-07-19   Male   7000     4.0              Average  \n",
      "2   2013-06-01   Male   6000     3.8              Average  \n"
     ]
    }
   ],
   "source": [
    "IT_Department=df[df[\"Department\"]==\"IT\"]\n",
    "print(\"\\nEmployees in IT department:\")\n",
    "print(IT_Department)"
   ]
  },
  {
   "cell_type": "markdown",
   "id": "28a17312-8268-4cf9-9507-169c3bcd5fa4",
   "metadata": {},
   "source": [
    "k) Modify the dataset by adding a new column, Tax, which deducts 10% of the Salary."
   ]
  },
  {
   "cell_type": "code",
   "execution_count": 21,
   "id": "23532079-792f-408c-936b-1c80d02f0a00",
   "metadata": {},
   "outputs": [
    {
     "name": "stdout",
     "output_type": "stream",
     "text": [
      "\n",
      "DataFrame with Tax column:\n",
      "   Employee ID     Name Department  Age  Salary  Years_of_Experience  \\\n",
      "0          101    Alice         HR   29   50000                    4   \n",
      "1          102      Bob         IT   34   70000                    8   \n",
      "2          103  Charlie         IT   41   65000                   10   \n",
      "3          104    Diana  MARKETING   28   55000                    3   \n",
      "4          105   Edward      SALES   38   60000                   12   \n",
      "\n",
      "  Joining_Date  Gender  Bonus  Rating Performance Category     Tax  \n",
      "0   2020-03-15  Female   5000     4.5                 Good  5000.0  \n",
      "1   2017-07-19    Male   7000     4.0              Average  7000.0  \n",
      "2   2013-06-01    Male   6000     3.8              Average  6500.0  \n",
      "3   2021-02-10  Female   4500     4.7            Excellent  5500.0  \n",
      "4   2010-11-25    Male   5000     3.5              Average  6000.0  \n"
     ]
    }
   ],
   "source": [
    "df['Tax'] = df['Salary'] * 0.10\n",
    "print(\"\\nDataFrame with Tax column:\")\n",
    "print(df)"
   ]
  },
  {
   "cell_type": "markdown",
   "id": "73b8e88e-5423-487c-9ecf-4fb64f6389d8",
   "metadata": {},
   "source": [
    "l) Save the modified DataFrame (with added columns) to a new CSV file."
   ]
  },
  {
   "cell_type": "code",
   "execution_count": 22,
   "id": "55182b9d-5157-414f-ab45-e507ab559d40",
   "metadata": {},
   "outputs": [
    {
     "name": "stdout",
     "output_type": "stream",
     "text": [
      "\n",
      "Modified DataFrame saved to 'modified_employees.csv'.\n"
     ]
    }
   ],
   "source": [
    "df.to_csv(\"modified_employees.csv\", index=False)\n",
    "print(\"\\nModified DataFrame saved to 'modified_employees.csv'.\")"
   ]
  }
 ],
 "metadata": {
  "kernelspec": {
   "display_name": "Python 3 (ipykernel)",
   "language": "python",
   "name": "python3"
  },
  "language_info": {
   "codemirror_mode": {
    "name": "ipython",
    "version": 3
   },
   "file_extension": ".py",
   "mimetype": "text/x-python",
   "name": "python",
   "nbconvert_exporter": "python",
   "pygments_lexer": "ipython3",
   "version": "3.12.7"
  }
 },
 "nbformat": 4,
 "nbformat_minor": 5
}
