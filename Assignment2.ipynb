{
 "cells": [
  {
   "cell_type": "markdown",
   "id": "5771d946-211e-431f-894b-48839d4f2c96",
   "metadata": {},
   "source": [
    "ASSIGNMENT - 2"
   ]
  },
  {
   "cell_type": "markdown",
   "id": "0b66e75d-8821-4443-9577-c16e4248c38e",
   "metadata": {},
   "source": [
    "Question 1: Create a List L that is defined as= [10, 20, 30, 40, 50, 60, 70, 80].\n"
   ]
  },
  {
   "cell_type": "markdown",
   "id": "988d3e47-d710-420d-8e27-16c849dadc6d",
   "metadata": {},
   "source": [
    "i) WAP to add 200 and 300 to L.\n",
    "\n"
   ]
  },
  {
   "cell_type": "code",
   "execution_count": 1,
   "id": "cfdebdeb-6811-4ff7-b6be-f2de474c8ce3",
   "metadata": {},
   "outputs": [
    {
     "name": "stdout",
     "output_type": "stream",
     "text": [
      "[10, 20, 30, 40, 50, 60, 70, 80, 200, 300]\n"
     ]
    }
   ],
   "source": [
    "L=[10,20,30,40,50,60,70,80]\n",
    "L.append(200)\n",
    "L.append(300)\n",
    "print(L)"
   ]
  },
  {
   "cell_type": "markdown",
   "id": "6ec6d571-0e59-4d6f-9c2f-cc68756b1940",
   "metadata": {},
   "source": [
    "ii) WAP to remove 10 and 30 from L.\n",
    "\n"
   ]
  },
  {
   "cell_type": "code",
   "execution_count": 3,
   "id": "496f8494-a205-4c3e-8907-47e43181d1d1",
   "metadata": {},
   "outputs": [
    {
     "name": "stdout",
     "output_type": "stream",
     "text": [
      "[20, 40, 50, 60, 70, 80, 200, 300]\n"
     ]
    }
   ],
   "source": [
    "L.remove(10)\n",
    "L.remove(30)\n",
    "print(L)"
   ]
  },
  {
   "cell_type": "markdown",
   "id": "86b6f793-10b9-4462-ac7f-6a8aa5f12b54",
   "metadata": {},
   "source": [
    "iii) WAP to sort L in ascending order.\n",
    "\n"
   ]
  },
  {
   "cell_type": "code",
   "execution_count": 4,
   "id": "8e3d9365-3464-41cc-9c66-b30498607605",
   "metadata": {},
   "outputs": [
    {
     "name": "stdout",
     "output_type": "stream",
     "text": [
      "[20, 40, 50, 60, 70, 80, 200, 300]\n"
     ]
    }
   ],
   "source": [
    "\n",
    "L.sort()\n",
    "print(L)\n"
   ]
  },
  {
   "cell_type": "markdown",
   "id": "b6390e46-a422-4caa-85bc-7691def7718e",
   "metadata": {},
   "source": [
    "iv) WAP to sort L in descending order.\n",
    "\n"
   ]
  },
  {
   "cell_type": "code",
   "execution_count": 5,
   "id": "8aba3d4d-3ed5-4db6-8256-b6a900faab09",
   "metadata": {},
   "outputs": [
    {
     "name": "stdout",
     "output_type": "stream",
     "text": [
      "[300, 200, 80, 70, 60, 50, 40, 20]\n"
     ]
    }
   ],
   "source": [
    "L.sort(reverse=True)\n",
    "print(L)"
   ]
  },
  {
   "cell_type": "markdown",
   "id": "2f9ba02b-0032-48e4-b213-a59bd02645fb",
   "metadata": {},
   "source": [
    "Question 2: Create a tuple of marks scored as scores = (45, 89.5, 76, 45.4, 89, 92, 58, 45) and perform the following operations using tuple functions:\n"
   ]
  },
  {
   "cell_type": "markdown",
   "id": "b45980a8-fb24-4580-9808-f8517202b3f2",
   "metadata": {},
   "source": [
    "i) Identify the highest score and its index in the tuple."
   ]
  },
  {
   "cell_type": "code",
   "execution_count": 6,
   "id": "2b428413-8451-4e17-b3ae-55571acd085e",
   "metadata": {},
   "outputs": [
    {
     "name": "stdout",
     "output_type": "stream",
     "text": [
      "highest score: 92\n",
      "index number of highest score: 5\n"
     ]
    }
   ],
   "source": [
    "T=(45,89.5,76,45.4,89,92,58,45)\n",
    "x=max(T)\n",
    "print(\"highest score:\",x)\n",
    "ind = T.index(x)\n",
    "print(\"index number of highest score:\",ind)"
   ]
  },
  {
   "cell_type": "markdown",
   "id": "1faf09db-8438-493d-8d37-b5126684b3f3",
   "metadata": {},
   "source": [
    "ii) Find the lowest score and count how many times it appears.\n",
    "\n"
   ]
  },
  {
   "cell_type": "code",
   "execution_count": 7,
   "id": "d9844b20-bf57-45a7-9e60-6f38a50bd0ee",
   "metadata": {},
   "outputs": [
    {
     "name": "stdout",
     "output_type": "stream",
     "text": [
      "lowest score: 45\n",
      "No. of times it occured is: 2\n"
     ]
    }
   ],
   "source": [
    "y=min(T)\n",
    "print(\"lowest score:\",y)\n",
    "x =T.count(y)\n",
    "print(\"No. of times it occured is:\",x)"
   ]
  },
  {
   "cell_type": "markdown",
   "id": "2024b316-6f43-496d-b6cb-7fff224b0d8e",
   "metadata": {},
   "source": [
    "iii) Reverse the tuple and return it as a list.\n",
    "\n"
   ]
  },
  {
   "cell_type": "code",
   "execution_count": 8,
   "id": "8835afc5-390e-4090-8dbe-d3951ebc52e4",
   "metadata": {},
   "outputs": [
    {
     "data": {
      "text/plain": [
       "[45, 58, 92, 89, 45.4, 76, 89.5, 45]"
      ]
     },
     "execution_count": 8,
     "metadata": {},
     "output_type": "execute_result"
    }
   ],
   "source": [
    "revT=T[::-1]\n",
    "list(revT)"
   ]
  },
  {
   "cell_type": "markdown",
   "id": "0405f93b-9b1d-4fd9-8892-d834ac3a8be6",
   "metadata": {},
   "source": [
    "iv) Check if a specific score ‘76’ (input by the user) is present in the tuple and print its first occurrence index, or a message saying it’s not present."
   ]
  },
  {
   "cell_type": "code",
   "execution_count": 9,
   "id": "357a8e6d-d765-4dd9-8543-29024598d330",
   "metadata": {},
   "outputs": [
    {
     "name": "stdout",
     "output_type": "stream",
     "text": [
      "The index at which 76 is present is: 2\n"
     ]
    }
   ],
   "source": [
    "if 76 in T:\n",
    "   x = (T.index(76))\n",
    "   print(\"The index at which 76 is present is:\",x) \n",
    "else:\n",
    "    print(\"It’s not present\")"
   ]
  },
  {
   "cell_type": "markdown",
   "id": "e86d4bbc-8902-4d6e-a2db-42de7379ec37",
   "metadata": {},
   "source": [
    "Question 3: WAP to create a list of 100 random numbers between 100 and 900. Count and print the:\n",
    "\n",
    "i) All odd numbers.\n",
    "ii) All even numbers.\n",
    "iii) All prime numbers"
   ]
  },
  {
   "cell_type": "code",
   "execution_count": 10,
   "id": "08ca4741-c60b-4b2c-9644-eb9dd24e4aac",
   "metadata": {},
   "outputs": [
    {
     "name": "stdout",
     "output_type": "stream",
     "text": [
      "[690, 869, 851, 667, 202, 341, 897, 604, 104, 730, 737, 298, 166, 537, 640, 105, 776, 740, 150, 103, 291, 607, 482, 158, 424, 749, 420, 241, 550, 282, 884, 464, 865, 425, 345, 134, 813, 724, 447, 775, 539, 379, 495, 804, 504, 175, 793, 880, 885, 830, 388, 509, 759, 308, 474, 462, 142, 209, 694, 623, 587, 552, 718, 174, 802, 475, 120, 311, 668, 228, 374, 433, 761, 450, 211, 480, 625, 683, 317, 666, 403, 867, 742, 895, 167, 153, 136, 829, 270, 662, 845, 634, 501, 385, 862, 794, 578, 846, 348, 265]\n",
      "\n",
      "\n",
      "All odd numbers are: [869, 851, 667, 341, 897, 737, 537, 105, 103, 291, 607, 749, 241, 865, 425, 345, 813, 447, 775, 539, 379, 495, 175, 793, 885, 509, 759, 209, 623, 587, 475, 311, 433, 761, 211, 625, 683, 317, 403, 867, 895, 167, 153, 829, 845, 501, 385, 265]\n",
      "\n",
      "\n",
      "All even numbers: [690, 202, 604, 104, 730, 298, 166, 640, 776, 740, 150, 482, 158, 424, 420, 550, 282, 884, 464, 134, 724, 804, 504, 880, 830, 388, 308, 474, 462, 142, 694, 552, 718, 174, 802, 120, 668, 228, 374, 450, 480, 666, 742, 136, 270, 662, 634, 862, 794, 578, 846, 348]\n",
      "\n",
      "\n",
      "All prime numbers are: [103, 607, 241, 379, 509, 587, 311, 433, 761, 211, 683, 317, 167, 829]\n"
     ]
    }
   ],
   "source": [
    "import random as r\n",
    "import sympy as s\n",
    "L=r.sample(range(100,900),100)\n",
    "print(L)\n",
    "l1=[x for x in L if not x%2==0]\n",
    "l2=[x for x in L if x%2==0]\n",
    "l3=[x for x in L if s.isprime(x)]\n",
    "print(\"\\n\")\n",
    "print(\"All odd numbers are:\",l1)\n",
    "print(\"\\n\")\n",
    "print(\"All even numbers:\",l2)\n",
    "print(\"\\n\")\n",
    "print(\"All prime numbers are:\",l3)"
   ]
  },
  {
   "cell_type": "markdown",
   "id": "6126b42e-af96-40f9-8717-130f93845605",
   "metadata": {},
   "source": [
    "Question 4: Consider the following two sets, A and B, representing scores of two teams in multiple matches. A = {34, 56, 78, 90} and B = {78, 45, 90, 23} WAP to perform the following operations using set functions:\n",
    "\n",
    "i) Find the unique scores achieved by both teams (union of sets).\n",
    "\n",
    "ii) Identify the scores that are common to both teams (intersection of sets).\n",
    "\n",
    "iii) Find the scores that are exclusive to each team (symmetric difference).\n",
    "\n",
    "iv) Check if the scores of team A are a subset of team B, and if team B's scores are a superset of team A.\n",
    "\n",
    "v) Remove a specific score X (input by the user) from set A if it exists. If not, print a message saying it is not present."
   ]
  },
  {
   "cell_type": "code",
   "execution_count": 11,
   "id": "abe15157-c76b-4e0c-9729-e14a784cb070",
   "metadata": {},
   "outputs": [
    {
     "name": "stdout",
     "output_type": "stream",
     "text": [
      "i) {34, 45, 78, 23, 56, 90}\n",
      "\n",
      "\n",
      "ii) {90, 78}\n",
      "\n",
      "\n",
      "iii) {34, 45, 23, 56}\n",
      "\n",
      "\n"
     ]
    },
    {
     "name": "stdin",
     "output_type": "stream",
     "text": [
      "Enter score to check 55\n"
     ]
    },
    {
     "name": "stdout",
     "output_type": "stream",
     "text": [
      "v) 55.0  is not present in A\n"
     ]
    }
   ],
   "source": [
    "A = {34, 56, 78, 90} \n",
    "B = {78, 45, 90, 23}\n",
    "print(\"i)\",A.union(B))\n",
    "print(\"\\n\")\n",
    "print(\"ii)\",A.intersection(B))\n",
    "print(\"\\n\")\n",
    "print(\"iii)\",A.symmetric_difference(B))\n",
    "print(\"\\n\")\n",
    "if A.issubset(B):\n",
    "    print(\"iv) A is subset of B\")\n",
    "if B.issuperset(A):\n",
    "    print(\"iv) B is superset of A\")\n",
    "n=float(input('Enter score to check'))\n",
    "if n in A:\n",
    "    A.remove(n)\n",
    "    print(A)\n",
    "else:\n",
    "    print(\"v)\",n,' is not present in A')\n",
    "    "
   ]
  },
  {
   "cell_type": "markdown",
   "id": "cca987f0-5ba9-435f-b813-f17fd7b9f070",
   "metadata": {},
   "source": [
    "Question 5: Write a program to rename a key city to a location in the following dictionary."
   ]
  },
  {
   "cell_type": "code",
   "execution_count": 12,
   "id": "be2fde12-3506-4448-a3db-c34d32d3a638",
   "metadata": {},
   "outputs": [
    {
     "name": "stdout",
     "output_type": "stream",
     "text": [
      "{'name': 'Snehil', 'age': 19, 'salary': 1000000, 'location': 'Jaipur'}\n"
     ]
    }
   ],
   "source": [
    "D={\n",
    "    \"name\": \"Snehil\",\n",
    "    \"age\":19,\n",
    "    \"salary\": 1000000,\n",
    "    \"city\": \"Jaipur\"\n",
    "}\n",
    "D['location']=D['city']\n",
    "del D['city']\n",
    "print(D)"
   ]
  },
  {
   "cell_type": "code",
   "execution_count": null,
   "id": "534a1a13-4a92-4f8d-af3a-ed0547be32cf",
   "metadata": {},
   "outputs": [],
   "source": []
  }
 ],
 "metadata": {
  "kernelspec": {
   "display_name": "Python 3 (ipykernel)",
   "language": "python",
   "name": "python3"
  },
  "language_info": {
   "codemirror_mode": {
    "name": "ipython",
    "version": 3
   },
   "file_extension": ".py",
   "mimetype": "text/x-python",
   "name": "python",
   "nbconvert_exporter": "python",
   "pygments_lexer": "ipython3",
   "version": "3.12.7"
  }
 },
 "nbformat": 4,
 "nbformat_minor": 5
}
