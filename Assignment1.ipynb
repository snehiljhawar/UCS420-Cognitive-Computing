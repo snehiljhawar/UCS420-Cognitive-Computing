{
 "cells": [
  {
   "cell_type": "markdown",
   "id": "16382a09-c64a-41ba-91d4-28e4a9ecf957",
   "metadata": {},
   "source": [
    "# Assignment-1"
   ]
  },
  {
   "cell_type": "markdown",
   "id": "7c16bdaa-be4b-4bcf-b524-316d554bd839",
   "metadata": {},
   "source": [
    "**Assingment 1.1:** WAP to print your name three times"
   ]
  },
  {
   "cell_type": "code",
   "execution_count": 2,
   "id": "39b331dc-beb0-4c4d-84d0-9d3897a9edb7",
   "metadata": {},
   "outputs": [
    {
     "name": "stdout",
     "output_type": "stream",
     "text": [
      "Snehil Jhawar Snehil Jhawar Snehil Jhawar \n"
     ]
    }
   ],
   "source": [
    "print(3 * 'Snehil Jhawar ')"
   ]
  },
  {
   "cell_type": "markdown",
   "id": "e5ccf815-7f78-4ad1-8b5f-d3d581832c38",
   "metadata": {},
   "source": [
    "**Assingment 2.1:** WAP to add three numbers and print the result.\n",
    "\n"
   ]
  },
  {
   "cell_type": "code",
   "execution_count": 6,
   "id": "71b412d8-5c5a-4a74-a415-a8b7eba78fff",
   "metadata": {},
   "outputs": [
    {
     "name": "stdout",
     "output_type": "stream",
     "text": [
      "The sum is: 48\n"
     ]
    }
   ],
   "source": [
    "a=10\n",
    "b=25\n",
    "c=13\n",
    "d=a+b+c\n",
    "print(\"The sum is:\", d)"
   ]
  },
  {
   "cell_type": "markdown",
   "id": "b8a8aa69-3997-4fb4-bd59-d97ac553a8c1",
   "metadata": {},
   "source": [
    "**Assingment 2.2:** WAP to concatinate three strings and print the result.\n",
    "\n",
    "\n"
   ]
  },
  {
   "cell_type": "code",
   "execution_count": 9,
   "id": "f3060668-6f00-45b5-ad7c-60412a03235e",
   "metadata": {},
   "outputs": [
    {
     "name": "stdout",
     "output_type": "stream",
     "text": [
      "I am doing python\n"
     ]
    }
   ],
   "source": [
    "a='I'\n",
    "b='am doing'\n",
    "c='python'\n",
    "d=a+\" \"+b+\" \"+c\n",
    "print(d)"
   ]
  },
  {
   "cell_type": "markdown",
   "id": "306d3e4a-5287-43b2-847e-6979d809c28e",
   "metadata": {},
   "source": [
    "**Assingment 4.1:** WAP to print the table of 7, 9.\n"
   ]
  },
  {
   "cell_type": "code",
   "execution_count": 10,
   "id": "cb3a88b8-0bc9-4c40-a5a3-37f72fc58efb",
   "metadata": {},
   "outputs": [
    {
     "name": "stdout",
     "output_type": "stream",
     "text": [
      "7 * 1 = 7\n",
      "7 * 2 = 14\n",
      "7 * 3 = 21\n",
      "7 * 4 = 28\n",
      "7 * 5 = 35\n",
      "7 * 6 = 42\n",
      "7 * 7 = 49\n",
      "7 * 8 = 56\n",
      "7 * 9 = 63\n",
      "7 * 10 = 70\n"
     ]
    }
   ],
   "source": [
    "for i in range(1,11):\n",
    "    print(7,\"*\",i, \"=\", 7*i)"
   ]
  },
  {
   "cell_type": "code",
   "execution_count": 11,
   "id": "ec76b4d9-93a4-4db6-99b5-44e4060c2a20",
   "metadata": {},
   "outputs": [
    {
     "name": "stdout",
     "output_type": "stream",
     "text": [
      "9 * 1 = 9\n",
      "9 * 2 = 18\n",
      "9 * 3 = 27\n",
      "9 * 4 = 36\n",
      "9 * 5 = 45\n",
      "9 * 6 = 54\n",
      "9 * 7 = 63\n",
      "9 * 8 = 72\n",
      "9 * 9 = 81\n",
      "9 * 10 = 90\n"
     ]
    }
   ],
   "source": [
    "for i in range(1,11):\n",
    "    print(9,\"*\",i, \"=\", 9*i)"
   ]
  },
  {
   "cell_type": "markdown",
   "id": "8fa5ec43-5b6e-43d9-bba7-c209f595ab17",
   "metadata": {},
   "source": [
    "**Assingment 4.2:** WAP to print the table of n and n is given by user.\n",
    "\n"
   ]
  },
  {
   "cell_type": "code",
   "execution_count": 12,
   "id": "4a46ae8e-83ba-42a2-9e7f-91515565992a",
   "metadata": {},
   "outputs": [
    {
     "name": "stdin",
     "output_type": "stream",
     "text": [
      "Enter the number:  5\n"
     ]
    },
    {
     "name": "stdout",
     "output_type": "stream",
     "text": [
      "Table of 5 is :\n",
      "5 * 1 = 5\n",
      "5 * 2 = 10\n",
      "5 * 3 = 15\n",
      "5 * 4 = 20\n",
      "5 * 5 = 25\n",
      "5 * 6 = 30\n",
      "5 * 7 = 35\n",
      "5 * 8 = 40\n",
      "5 * 9 = 45\n",
      "5 * 10 = 50\n"
     ]
    }
   ],
   "source": [
    "n=int(input(\"Enter the number: \"))\n",
    "print(\"Table of\", n, \"is :\")\n",
    "for i in range(1,11):\n",
    "      print(n,\"*\",i, \"=\", n*i)"
   ]
  },
  {
   "cell_type": "markdown",
   "id": "dac8ca4f-32db-4a7c-9208-516f054270d0",
   "metadata": {},
   "source": [
    "**Assingment 4.3:** WAP to add all the numbers from 1 to n and n is given by user.\n",
    "\n"
   ]
  },
  {
   "cell_type": "code",
   "execution_count": 13,
   "id": "15ee69cb-2d48-41ca-b32c-aef09c3e2c8f",
   "metadata": {},
   "outputs": [
    {
     "name": "stdin",
     "output_type": "stream",
     "text": [
      "Enter the number:  8\n"
     ]
    },
    {
     "name": "stdout",
     "output_type": "stream",
     "text": [
      "The sum is 36\n"
     ]
    }
   ],
   "source": [
    "n=int(input(\"Enter the number: \"))\n",
    "sum=0\n",
    "for i in range(1,n+1):\n",
    "    sum=sum+i\n",
    "print(\"The sum is\", sum)    \n",
    "    "
   ]
  },
  {
   "cell_type": "markdown",
   "id": "fa9ae5c2-bce5-44bb-8437-6b1e1678d2f6",
   "metadata": {},
   "source": [
    "**Assingment 5.1:** WAP to find max amoung three numbers and input from user. \n",
    "\n"
   ]
  },
  {
   "cell_type": "code",
   "execution_count": 15,
   "id": "ba34c36a-1846-4fb1-b23c-c85b6d0cf1d8",
   "metadata": {},
   "outputs": [
    {
     "name": "stdin",
     "output_type": "stream",
     "text": [
      "Enter first number 1\n",
      "Enter second number 2\n",
      "Enter third number 3\n"
     ]
    },
    {
     "name": "stdout",
     "output_type": "stream",
     "text": [
      "Maximum number is: 3\n"
     ]
    }
   ],
   "source": [
    "a=int(input(\"Enter first number\"))\n",
    "b=int(input(\"Enter second number\"))\n",
    "c=int(input(\"Enter third number\"))\n",
    "maximum= max(a,b,c)\n",
    "print(\"Maximum number is:\",maximum)"
   ]
  },
  {
   "cell_type": "markdown",
   "id": "2cbb45b1-bf35-4497-ad9a-9cd355feae47",
   "metadata": {},
   "source": [
    "**Assingment 5.2:** WAP to add all numbers divisible by 7 and 9 from 1 to n and n is given by the user.\n",
    "\n"
   ]
  },
  {
   "cell_type": "code",
   "execution_count": 16,
   "id": "23f08d9c-8824-41e0-9cc8-55f24c45707f",
   "metadata": {},
   "outputs": [
    {
     "name": "stdin",
     "output_type": "stream",
     "text": [
      "Enter the number:  50\n"
     ]
    },
    {
     "name": "stdout",
     "output_type": "stream",
     "text": [
      "Sum of numbers divisible by 7 and 9 are 0\n"
     ]
    }
   ],
   "source": [
    "n=int(input(\"Enter the number: \"))\n",
    "sum=0\n",
    "for i in range(1,n+1):\n",
    "    if i%7==0 and i%9==0:\n",
    "        sum=sum+i\n",
    "print(\"Sum of numbers divisible by 7 and 9 are\", sum)        \n"
   ]
  },
  {
   "cell_type": "markdown",
   "id": "64d76f19-4d37-416b-b62e-237ebad86b22",
   "metadata": {},
   "source": [
    "**Assingment 5.3:** WAP to add all prime numbers from 1 to n and n is given by the user.\n",
    "\n"
   ]
  },
  {
   "cell_type": "code",
   "execution_count": 18,
   "id": "4acf5e98-8134-44b1-b6f5-ef20d30d0136",
   "metadata": {},
   "outputs": [
    {
     "name": "stdin",
     "output_type": "stream",
     "text": [
      "Enter the number:  10\n"
     ]
    },
    {
     "name": "stdout",
     "output_type": "stream",
     "text": [
      "The sum of all prime numbers from 1 to 10 is: 17\n"
     ]
    }
   ],
   "source": [
    "def check_prime(number):\n",
    "    if number<2:\n",
    "        return False\n",
    "    for i in range(2, number//2 + 1):\n",
    "        if number % i == 0:\n",
    "            return False\n",
    "    return True\n",
    "n = int(input(\"Enter the number: \"))\n",
    "sum = 0\n",
    "for i in range(1, n + 1):\n",
    "    if check_prime(i):\n",
    "        sum= sum+i\n",
    "print(\"The sum of all prime numbers from 1 to\", n , \"is:\",sum)\n"
   ]
  },
  {
   "cell_type": "markdown",
   "id": "ad34c8e0-d908-4c10-8c99-8885919554cc",
   "metadata": {},
   "source": [
    "**Assingment 6.1:** WAP using function that add all odd numbers from 1 to n, n is given by the user.\n",
    "\n"
   ]
  },
  {
   "cell_type": "code",
   "execution_count": 20,
   "id": "a2a81d54-d5ea-4cb0-8546-bdea4ab49487",
   "metadata": {},
   "outputs": [
    {
     "name": "stdin",
     "output_type": "stream",
     "text": [
      "Enter the number:  10\n"
     ]
    },
    {
     "name": "stdout",
     "output_type": "stream",
     "text": [
      "The sum is 25\n"
     ]
    }
   ],
   "source": [
    "def add_odd(n):\n",
    "    sum=0\n",
    "    for i in range(1,n+1):\n",
    "        if i%2!=0:\n",
    "            sum=sum+i\n",
    "    return sum       \n",
    "n = int(input(\"Enter the number: \"))\n",
    "print(\"The sum is\",add_odd(n))\n",
    "            "
   ]
  },
  {
   "cell_type": "markdown",
   "id": "1a413f9d-9042-495b-8dfa-e579e153668b",
   "metadata": {},
   "source": [
    "**Assingment 6.2:** WAP using function that add all prime numbers from 1 to n, n given by the user.\n",
    "\n"
   ]
  },
  {
   "cell_type": "code",
   "execution_count": 3,
   "id": "4b61b429-5576-4f60-a927-eab5bad0b5b5",
   "metadata": {},
   "outputs": [
    {
     "name": "stdin",
     "output_type": "stream",
     "text": [
      "Enter the number:  10\n"
     ]
    },
    {
     "name": "stdout",
     "output_type": "stream",
     "text": [
      "The sum of all prime numbers from 1 to 10 is: 17\n"
     ]
    }
   ],
   "source": [
    "def check_prime(n):\n",
    "    if n<2:\n",
    "        return False\n",
    "    for i in range(2,n//2+1):\n",
    "        if n%i==0:\n",
    "            return False\n",
    "    return True\n",
    "def sum_prime(n):\n",
    "    sum=0\n",
    "    for i in range(1,n+1):\n",
    "        if check_prime(i):\n",
    "            sum= sum+i\n",
    "    return sum    \n",
    "n = int(input(\"Enter the number: \"))\n",
    "print(\"The sum of all prime numbers from 1 to\", n, \"is:\", sum_prime(n))"
   ]
  },
  {
   "cell_type": "code",
   "execution_count": null,
   "id": "17f95dfc-a458-4c46-ab16-57c96b01ed81",
   "metadata": {},
   "outputs": [],
   "source": []
  }
 ],
 "metadata": {
  "kernelspec": {
   "display_name": "Python 3 (ipykernel)",
   "language": "python",
   "name": "python3"
  },
  "language_info": {
   "codemirror_mode": {
    "name": "ipython",
    "version": 3
   },
   "file_extension": ".py",
   "mimetype": "text/x-python",
   "name": "python",
   "nbconvert_exporter": "python",
   "pygments_lexer": "ipython3",
   "version": "3.12.7"
  }
 },
 "nbformat": 4,
 "nbformat_minor": 5
}
